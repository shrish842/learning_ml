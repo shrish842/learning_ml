{
 "cells": [
  {
   "cell_type": "code",
   "execution_count": 1,
   "id": "9e768132",
   "metadata": {},
   "outputs": [],
   "source": [
    "a: str= \"Shrish\"\n"
   ]
  },
  {
   "cell_type": "code",
   "execution_count": 2,
   "id": "b31715ff",
   "metadata": {},
   "outputs": [],
   "source": [
    "a=1"
   ]
  },
  {
   "cell_type": "code",
   "execution_count": 9,
   "id": "0b54a09b",
   "metadata": {},
   "outputs": [
    {
     "name": "stdout",
     "output_type": "stream",
     "text": [
      "1\n",
      "this is shrish and learning the machine learning \n",
      "/n \n"
     ]
    }
   ],
   "source": [
    "print(a)\n",
    "multi= \"\"\"this is shrish and learning the machine learning \\n/n \"\"\"\n",
    "print(multi)"
   ]
  },
  {
   "cell_type": "raw",
   "id": "aaab41de",
   "metadata": {},
   "source": []
  },
  {
   "cell_type": "code",
   "execution_count": 10,
   "id": "7955b713",
   "metadata": {},
   "outputs": [
    {
     "name": "stdout",
     "output_type": "stream",
     "text": [
      "k\n"
     ]
    }
   ],
   "source": [
    "string = \"Innogeeks\"\n",
    "print(string[-2])"
   ]
  },
  {
   "cell_type": "code",
   "execution_count": 12,
   "id": "458a985e",
   "metadata": {},
   "outputs": [
    {
     "name": "stdout",
     "output_type": "stream",
     "text": [
      "Innog\n",
      "Innogeeks\n"
     ]
    }
   ],
   "source": [
    "print(string[0:5:1])\n",
    "print(string[::])\n",
    "#it prints the whole string"
   ]
  },
  {
   "cell_type": "markdown",
   "id": "5f53499d",
   "metadata": {},
   "source": [
    "# innotech"
   ]
  },
  {
   "cell_type": "code",
   "execution_count": null,
   "id": "7ab3a54b",
   "metadata": {},
   "outputs": [],
   "source": []
  }
 ],
 "metadata": {
  "kernelspec": {
   "display_name": "Python 3 (ipykernel)",
   "language": "python",
   "name": "python3"
  },
  "language_info": {
   "codemirror_mode": {
    "name": "ipython",
    "version": 3
   },
   "file_extension": ".py",
   "mimetype": "text/x-python",
   "name": "python",
   "nbconvert_exporter": "python",
   "pygments_lexer": "ipython3",
   "version": "3.11.5"
  }
 },
 "nbformat": 4,
 "nbformat_minor": 5
}
