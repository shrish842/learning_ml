{
 "cells": [
  {
   "cell_type": "code",
   "execution_count": 1,
   "id": "d7e3718a",
   "metadata": {},
   "outputs": [],
   "source": [
    "def greet(name):\n",
    "    print(\"Hello, \"+ name + \"!\")"
   ]
  },
  {
   "cell_type": "code",
   "execution_count": 3,
   "id": "833e7c17",
   "metadata": {},
   "outputs": [
    {
     "name": "stdout",
     "output_type": "stream",
     "text": [
      "Hello, Shrish!\n"
     ]
    }
   ],
   "source": [
    "greet(\"Shrish\")"
   ]
  },
  {
   "cell_type": "code",
   "execution_count": 4,
   "id": "69fabed0",
   "metadata": {},
   "outputs": [
    {
     "data": {
      "text/plain": [
       "8"
      ]
     },
     "execution_count": 4,
     "metadata": {},
     "output_type": "execute_result"
    }
   ],
   "source": [
    "def add(a,b):\n",
    "  c=a+b\n",
    "  return c\n",
    "\n",
    "\n",
    "add(3,5)"
   ]
  },
  {
   "cell_type": "code",
   "execution_count": 6,
   "id": "ac91e42b",
   "metadata": {},
   "outputs": [
    {
     "name": "stdout",
     "output_type": "stream",
     "text": [
      "('shrish', 18)\n"
     ]
    }
   ],
   "source": [
    "def person(name,age):\n",
    "    return name,age\n",
    "\n",
    "b=person(\"shrish\",18)\n",
    "print(b)"
   ]
  },
  {
   "cell_type": "code",
   "execution_count": 8,
   "id": "91d13584",
   "metadata": {},
   "outputs": [
    {
     "name": "stdout",
     "output_type": "stream",
     "text": [
      "10\n"
     ]
    }
   ],
   "source": [
    "c= 15\n",
    "def update_c():\n",
    "    global c\n",
    "    c=10\n",
    "    print(c)\n",
    "    \n",
    "update_c()    "
   ]
  },
  {
   "cell_type": "code",
   "execution_count": 9,
   "id": "7bafaf99",
   "metadata": {},
   "outputs": [
    {
     "name": "stdout",
     "output_type": "stream",
     "text": [
      "<class 'int'>\n"
     ]
    }
   ],
   "source": [
    "a= 5\n",
    "print(type(a))"
   ]
  },
  {
   "cell_type": "code",
   "execution_count": 13,
   "id": "c7ed8a5e",
   "metadata": {},
   "outputs": [
    {
     "data": {
      "text/plain": [
       "6"
      ]
     },
     "execution_count": 13,
     "metadata": {},
     "output_type": "execute_result"
    }
   ],
   "source": [
    "def factorial(n):\n",
    "    if n== 0 or n== 1:\n",
    "     return n\n",
    "    else:\n",
    "        return n*factorial(n-1)\n",
    "    \n",
    "factorial(3)    "
   ]
  },
  {
   "cell_type": "code",
   "execution_count": 14,
   "id": "c932938f",
   "metadata": {},
   "outputs": [
    {
     "name": "stdout",
     "output_type": "stream",
     "text": [
      "25\n"
     ]
    }
   ],
   "source": [
    "square = lambda x: x**2\n",
    "print(square(5))"
   ]
  },
  {
   "cell_type": "code",
   "execution_count": 15,
   "id": "dc26c6f2",
   "metadata": {},
   "outputs": [
    {
     "name": "stdout",
     "output_type": "stream",
     "text": [
      "[1, 4, 9]\n"
     ]
    }
   ],
   "source": [
    "lst = [1, 2, 3]\n",
    "new_list = list(map(lambda x: x**2,lst))\n",
    "print(new_list)"
   ]
  },
  {
   "cell_type": "code",
   "execution_count": 17,
   "id": "be17fe66",
   "metadata": {},
   "outputs": [
    {
     "data": {
      "text/plain": [
       "6"
      ]
     },
     "execution_count": 17,
     "metadata": {},
     "output_type": "execute_result"
    }
   ],
   "source": [
    "def len_string(name):\n",
    "    return len(name)\n",
    "\n",
    "len_string(\"Shrish\")"
   ]
  },
  {
   "cell_type": "code",
   "execution_count": 24,
   "id": "2727439c",
   "metadata": {},
   "outputs": [
    {
     "name": "stdout",
     "output_type": "stream",
     "text": [
      "Hello\n",
      "Time: 0.0\n"
     ]
    }
   ],
   "source": [
    "import time\n",
    "def timetaken(func):\n",
    "    def wrapper():\n",
    "        st = time.time()\n",
    "        func()\n",
    "        end = time.time()\n",
    "        print(\"Time:\",end-st)\n",
    "    return wrapper\n",
    "@timetaken\n",
    "def func():\n",
    "    print(\"Hello\")\n",
    "func()    "
   ]
  },
  {
   "cell_type": "code",
   "execution_count": 6,
   "id": "b6eb7045",
   "metadata": {},
   "outputs": [
    {
     "name": "stdout",
     "output_type": "stream",
     "text": [
      "6\n"
     ]
    }
   ],
   "source": [
    "def max_num(list_a):\n",
    "    b= max(list_a)\n",
    "    print(b)\n",
    "    \n",
    "    \n",
    "max_num([4, 2, 6])\n",
    "\n",
    "    \n",
    "    "
   ]
  },
  {
   "cell_type": "code",
   "execution_count": 5,
   "id": "1e041912",
   "metadata": {},
   "outputs": [
    {
     "data": {
      "text/plain": [
       "4"
      ]
     },
     "execution_count": 5,
     "metadata": {},
     "output_type": "execute_result"
    }
   ],
   "source": [
    "def square(*,x):\n",
    "    return x*x\n",
    "square(x=2)"
   ]
  },
  {
   "cell_type": "code",
   "execution_count": 8,
   "id": "1025f309",
   "metadata": {},
   "outputs": [
    {
     "name": "stdout",
     "output_type": "stream",
     "text": [
      "Enter a integer32\n",
      "number is 32\n"
     ]
    }
   ],
   "source": [
    "while True:\n",
    "    try:\n",
    "        x= int(input(\"Enter a integer\"))\n",
    "        break\n",
    "        \n",
    "    except ValueError:\n",
    "        print(\"x is not an integer\")\n",
    "\n",
    "print(f\"number is {x}\")        \n",
    "        \n",
    "        "
   ]
  },
  {
   "cell_type": "code",
   "execution_count": null,
   "id": "cafd2f61",
   "metadata": {},
   "outputs": [],
   "source": []
  }
 ],
 "metadata": {
  "kernelspec": {
   "display_name": "Python 3 (ipykernel)",
   "language": "python",
   "name": "python3"
  },
  "language_info": {
   "codemirror_mode": {
    "name": "ipython",
    "version": 3
   },
   "file_extension": ".py",
   "mimetype": "text/x-python",
   "name": "python",
   "nbconvert_exporter": "python",
   "pygments_lexer": "ipython3",
   "version": "3.11.5"
  }
 },
 "nbformat": 4,
 "nbformat_minor": 5
}
