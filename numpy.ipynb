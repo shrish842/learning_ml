{
 "cells": [
  {
   "cell_type": "code",
   "execution_count": 3,
   "id": "dd1e9623",
   "metadata": {},
   "outputs": [
    {
     "name": "stdout",
     "output_type": "stream",
     "text": [
      "<class 'numpy.ndarray'>\n"
     ]
    }
   ],
   "source": [
    "import numpy as np\n",
    "\n",
    "arr = np.array([1, 2,3])\n",
    "print(type(arr))"
   ]
  },
  {
   "cell_type": "code",
   "execution_count": 13,
   "id": "374ab7bf",
   "metadata": {},
   "outputs": [
    {
     "name": "stdout",
     "output_type": "stream",
     "text": [
      "[[0. 0. 0.]\n",
      " [0. 0. 0.]]\n"
     ]
    }
   ],
   "source": [
    "zeroes_arr = np.zeros((2,3))\n",
    "print(zeroes_arr)"
   ]
  },
  {
   "cell_type": "code",
   "execution_count": 14,
   "id": "a4989c44",
   "metadata": {},
   "outputs": [
    {
     "name": "stdout",
     "output_type": "stream",
     "text": [
      "[0 2 4 6 8]\n"
     ]
    }
   ],
   "source": [
    "arange_arr = np.arange(0, 10, 2)\n",
    "print(arange_arr)"
   ]
  },
  {
   "cell_type": "code",
   "execution_count": 9,
   "id": "ed5f583b",
   "metadata": {},
   "outputs": [
    {
     "data": {
      "text/plain": [
       "array([0.  , 1.25, 2.5 , 3.75, 5.  ])"
      ]
     },
     "execution_count": 9,
     "metadata": {},
     "output_type": "execute_result"
    }
   ],
   "source": [
    "linspace_arr = np.linspace(0,5,5)\n",
    "linspace_arr"
   ]
  },
  {
   "cell_type": "code",
   "execution_count": 27,
   "id": "925d7f37",
   "metadata": {},
   "outputs": [
    {
     "name": "stdout",
     "output_type": "stream",
     "text": [
      "[[6.46868137 2.3835076  2.30305284]\n",
      " [3.34063204 5.68973053 2.54332226]]\n",
      "[[22 21 20]\n",
      " [15 18 15]]\n"
     ]
    }
   ],
   "source": [
    "random_arr = np.random.rand(2, 3)*9+1\n",
    "print(random_arr)\n",
    "random_arr1 = np.random.randint(low =2, high = 25,size=(2,3))\n",
    "print(random_arr1)"
   ]
  },
  {
   "cell_type": "code",
   "execution_count": 31,
   "id": "73b366e8",
   "metadata": {},
   "outputs": [
    {
     "name": "stdout",
     "output_type": "stream",
     "text": [
      "[[5 9 5]\n",
      " [3 8 9]\n",
      " [4 7 3]]\n",
      "3\n"
     ]
    }
   ],
   "source": [
    "arr = np.random.randint(low= 2, high = 10, size= (3,3))\n",
    "print(arr)\n",
    "print(arr[2,2])\n"
   ]
  },
  {
   "cell_type": "code",
   "execution_count": 33,
   "id": "4f1cd1bc",
   "metadata": {},
   "outputs": [
    {
     "name": "stdout",
     "output_type": "stream",
     "text": [
      "(0, 1, 2)\n",
      "[0 2 5]\n"
     ]
    }
   ],
   "source": [
    "arr = 0, 1, 2\n",
    "print(arr)\n",
    "array_1 = np.array([0,2,5])\n",
    "print(array_1)"
   ]
  },
  {
   "cell_type": "code",
   "execution_count": 34,
   "id": "92543a34",
   "metadata": {},
   "outputs": [
    {
     "name": "stdout",
     "output_type": "stream",
     "text": [
      "[[0 1 2]\n",
      " [3 5 6]]\n"
     ]
    }
   ],
   "source": [
    "arr = np.array([0,1,2,3,5,6,])\n",
    "new_arr = arr.reshape(2,3)\n",
    "print(new_arr)"
   ]
  },
  {
   "cell_type": "code",
   "execution_count": 37,
   "id": "db84642e",
   "metadata": {},
   "outputs": [
    {
     "name": "stdout",
     "output_type": "stream",
     "text": [
      "[[[ 0  1]\n",
      "  [ 2  3]\n",
      "  [ 5  6]]\n",
      "\n",
      " [[10  9]\n",
      "  [ 7 25]\n",
      "  [56 36]]]\n"
     ]
    }
   ],
   "source": [
    "arr = np.array([0,1,2,3,5,6,10,9,7,25,56,36])\n",
    "new_arr = arr.reshape(2,3,2)\n",
    "print(new_arr)"
   ]
  },
  {
   "cell_type": "code",
   "execution_count": null,
   "id": "bdc0b593",
   "metadata": {},
   "outputs": [],
   "source": []
  }
 ],
 "metadata": {
  "kernelspec": {
   "display_name": "Python 3 (ipykernel)",
   "language": "python",
   "name": "python3"
  },
  "language_info": {
   "codemirror_mode": {
    "name": "ipython",
    "version": 3
   },
   "file_extension": ".py",
   "mimetype": "text/x-python",
   "name": "python",
   "nbconvert_exporter": "python",
   "pygments_lexer": "ipython3",
   "version": "3.11.5"
  }
 },
 "nbformat": 4,
 "nbformat_minor": 5
}
